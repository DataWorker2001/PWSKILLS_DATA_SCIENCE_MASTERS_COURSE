{
 "cells": [
  {
   "cell_type": "markdown",
   "id": "ce4da5f7",
   "metadata": {},
   "source": [
    "# ALL APPLICATIONS GIVEN HERE ARE DERIVED BASED ON FIRST 2 DATA SCIENCE MASTERS CLASSES (ENGLISH BATCH) PWSKILLS TAKEN BY KRISH SIR AND AFTER FEW EXPLORATIONS.\n",
    "### (CONTRIBUTED BY ARPAN CHOUDHURY, BTECH FINAL YEAR, CSE UNDERGRAD, BCREC)\n",
    "## Applications of learnings at PWSkills and using core math concepts\n",
    "### Application-1 :- Evaluating the number of years left to retire based on current age of an employee in any field (assuming variable retirement age as input).\n",
    "### Application-2 :- Counting the number of fruits in a static basket (Changing manually can be done until list dynamic input is not taught, after it is done, append() function can be used).\n",
    "### Application-3 :- Searching the name in a list using comparison operator.\n",
    "### Application-4 :- Printing the equilateral triangle pattern using nested loops.\n",
    "### Application-5 :- Wishing, the Lovers or your lover friends or valentine, a particular day in Valentine week according to the day of login in February month as input like Happy Teddy Day, Happy Chocolate Day and so on Using if, elif, else."
   ]
  },
  {
   "cell_type": "raw",
   "id": "37f657fc",
   "metadata": {},
   "source": [
    "RAW CELL"
   ]
  },
  {
   "cell_type": "markdown",
   "id": "03ebfc87",
   "metadata": {},
   "source": [
    "# APPLICATION-1 (APPROACH-1) using ARITHMETIC OPERATIONS"
   ]
  },
  {
   "cell_type": "code",
   "execution_count": 4,
   "id": "b86700e6",
   "metadata": {
    "scrolled": true
   },
   "outputs": [
    {
     "name": "stdout",
     "output_type": "stream",
     "text": [
      "WHAT is the retirement age in your working field??38\n",
      "Hello Employee, please enter your current age.23\n",
      "15 years are left for you to retire. Happy Work Life :) \n"
     ]
    }
   ],
   "source": [
    "# Application-1:- Years left for retirement\n",
    "# Illustrating the concept of ARITHMETIC OPERATION, MINUS\n",
    "# Approach-1:- Using arithmetic operator, minus.\n",
    "retirement_age = int(input(\"WHAT is the retirement age in your working field??\"))\n",
    "present_age = int(input(\"Hello Employee, please enter your current age.\")) #TYPE CASTING (CONVERSION) USED\n",
    "years_left = retirement_age - present_age\n",
    "print(f\"{years_left} years are left for you to retire. Happy Work Life :) \") #f used to format"
   ]
  },
  {
   "cell_type": "markdown",
   "id": "82055a2b",
   "metadata": {},
   "source": [
    "# APPLICATION-1 (APPROACH-2) using while loop"
   ]
  },
  {
   "cell_type": "code",
   "execution_count": 7,
   "id": "b85fca95",
   "metadata": {},
   "outputs": [
    {
     "name": "stdout",
     "output_type": "stream",
     "text": [
      "WHAT is the retirement age in your working field??60\n",
      "Hello Employee, please enter your current age.20\n",
      "41 years are left for you to retire. Happy Work Life :) \n"
     ]
    }
   ],
   "source": [
    "# Illustrating the concept of loops (for loop, while loop, for each loop)\n",
    "retirement_age = int(input(\"WHAT is the retirement age in your working field??\"))\n",
    "present_age = int(input(\"Hello Employee, please enter your current age.\")) #TYPE CASTING (CONVERSION) USED\n",
    "years_left = 0\n",
    "while(present_age<retirement_age):\n",
    "    years_left = years_left + 1\n",
    "    present_age += 1\n",
    "    #years_left+=1 #-->Compound assignment can also be used here like C no years_left++\n",
    "    #years_left++ gives runtime error\n",
    "else:print(\"{} years are left for you to retire. Happy Work Life :) \".format(years_left)) #format() function illustration\n",
    "#single statement suite --> above line and using while and else, like if and else"
   ]
  },
  {
   "cell_type": "markdown",
   "id": "a0eb8fb9",
   "metadata": {},
   "source": [
    "# APPLICATION-2"
   ]
  },
  {
   "cell_type": "code",
   "execution_count": 13,
   "id": "965666af",
   "metadata": {},
   "outputs": [
    {
     "name": "stdout",
     "output_type": "stream",
     "text": [
      "7 number of fruits are present in the static basket are.\n"
     ]
    }
   ],
   "source": [
    "# Counting number of fruits in a static basket\n",
    "count = 0 # To count the number of fruits\n",
    "basket = ['Apple', 'Orange', 'BlueBerry', \"Grapes\", 'Banana', 'Mango', 'Promegranate'] #7 fruits can be ound using len(basket) also.\n",
    "for i in basket: # Illustrating the use of for each loop, this for loop can be replaced by for i in range(0,7): \n",
    "    count = count+1            \n",
    "# For each loop iterates through elements of the list or any collection.\n",
    "print(\"{c} number of fruits are present in the static basket are.\".format(c=count)) # format() Used for complex printing"
   ]
  },
  {
   "cell_type": "code",
   "execution_count": 15,
   "id": "1330600c",
   "metadata": {},
   "outputs": [
    {
     "name": "stdout",
     "output_type": "stream",
     "text": [
      "Abc\n",
      "10\n"
     ]
    }
   ],
   "source": [
    "## Important information:- In Python, it seems keywords can be used as identifiers.\n",
    "str = 5\n",
    "type =\"Abc\"\n",
    "format = 10\n",
    "print(type)\n",
    "print(format)\n",
    "# Its interesting"
   ]
  },
  {
   "cell_type": "markdown",
   "id": "d7f491a5",
   "metadata": {},
   "source": [
    "# APPLICATION-3"
   ]
  },
  {
   "cell_type": "code",
   "execution_count": null,
   "id": "5c531f04",
   "metadata": {},
   "outputs": [],
   "source": [
    "# Searching name in a list using comparison operator and linear search, if and else\n",
    "lst = [1,100,1000,55,10,11,12,19,99] #creating a list statically\n",
    "flag = False\n",
    "num = int(input(\"Enter the number to be searched\")) #Type Cast\n",
    "for i in lst:\n",
    "    if(num==i):\n",
    "        flag=True\n",
    "        break\n",
    "if(flag==1):\n",
    "    print(\"Congratulations the number search for was found!\")\n",
    "else:\n",
    "    print(\"Sorry! Number is not present here.\")\n",
    "    "
   ]
  },
  {
   "cell_type": "markdown",
   "id": "ef5180a9",
   "metadata": {},
   "source": [
    "# APPLICATION-4"
   ]
  },
  {
   "cell_type": "code",
   "execution_count": 31,
   "id": "6322410a",
   "metadata": {},
   "outputs": [
    {
     "name": "stdout",
     "output_type": "stream",
     "text": [
      "Enter the height of the triangle or number of rows:25\n",
      "                                                 *\n",
      "                                                ***\n",
      "                                               *****\n",
      "                                              *******\n",
      "                                             *********\n",
      "                                            ***********\n",
      "                                           *************\n",
      "                                          ***************\n",
      "                                         *****************\n",
      "                                        *******************\n",
      "                                       *********************\n",
      "                                      ***********************\n",
      "                                     *************************\n",
      "                                    ***************************\n",
      "                                   *****************************\n",
      "                                  *******************************\n",
      "                                 *********************************\n",
      "                                ***********************************\n",
      "                               *************************************\n",
      "                              ***************************************\n",
      "                             *****************************************\n",
      "                            *******************************************\n",
      "                           *********************************************\n",
      "                          ***********************************************\n",
      "                         *************************************************\n"
     ]
    }
   ],
   "source": [
    "# Printing Equilateral triangle (Pyramid) pattern containing spaces and stars.\n",
    "n = int(input(\"Enter the height of the triangle or number of rows:\"))\n",
    "for i in range(0,n):# Illustration of range function use\n",
    "    for space in range(0,2*n-i-1,1):\n",
    "        print(end=' ')\n",
    "    for j in range(0,2*i+1):\n",
    "        print(\"*\",end='')\n",
    "    print('\\r')"
   ]
  },
  {
   "cell_type": "markdown",
   "id": "97b7b692",
   "metadata": {},
   "source": [
    "# APPLICATION-5"
   ]
  },
  {
   "cell_type": "code",
   "execution_count": 35,
   "id": "aba355e2",
   "metadata": {},
   "outputs": [
    {
     "name": "stdout",
     "output_type": "stream",
     "text": [
      "Enter the login day number for February month:10\n",
      "Wishing you a very Happy Teddy Day..\n"
     ]
    }
   ],
   "source": [
    "# Wishing a valentine week's day to an user based on his date of login in valentine week or other week.\n",
    "date_login = int(input(\"Enter the login day number for February month:\")) # Enter 7 for 7th Feb, 8 for 8th and so on.\n",
    "if date_login > 14:\n",
    "    print(\"Sorry!You have login after the Valentine's week is over.\\n Try to login, during the Valentine's week next year.\")\n",
    "L_val = ['Rose','Propose','Chocolate','Teddy','Promise','Hug','Kiss',\"Valentine's\"]\n",
    "for i in range(0,8):\n",
    "    if date_login-7 == i:\n",
    "        print(f\"Wishing you a very Happy {L_val[i]} Day..\") # List[index] used to access list elements--> square braces"
   ]
  },
  {
   "cell_type": "markdown",
   "id": "31a00e9d",
   "metadata": {},
   "source": [
    "# For more such updates, please support and follow me on LinkedIn:-      ARPAN CHOUDHURY, (https://www.linkedin.com/in/arpan-choudhury-2084b9200)\n",
    "\n",
    "# and on Github:- DATAWORKER2001, (https://github.com/DataWorker2001)"
   ]
  },
  {
   "cell_type": "code",
   "execution_count": null,
   "id": "5bfc2127",
   "metadata": {},
   "outputs": [],
   "source": []
  }
 ],
 "metadata": {
  "kernelspec": {
   "display_name": "Python 3 (ipykernel)",
   "language": "python",
   "name": "python3"
  },
  "language_info": {
   "codemirror_mode": {
    "name": "ipython",
    "version": 3
   },
   "file_extension": ".py",
   "mimetype": "text/x-python",
   "name": "python",
   "nbconvert_exporter": "python",
   "pygments_lexer": "ipython3",
   "version": "3.9.12"
  }
 },
 "nbformat": 4,
 "nbformat_minor": 5
}
