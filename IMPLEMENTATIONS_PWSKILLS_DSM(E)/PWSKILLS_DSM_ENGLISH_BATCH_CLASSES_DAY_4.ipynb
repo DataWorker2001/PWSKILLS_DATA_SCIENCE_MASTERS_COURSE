{
 "cells": [
  {
   "cell_type": "markdown",
   "id": "4ff542c5",
   "metadata": {},
   "source": [
    "# Learnings and notes DATA SCIENCE MASTERS CLASS - DAY-4 Notes By ARPAN CHOUDHURY"
   ]
  },
  {
   "cell_type": "code",
   "execution_count": 1,
   "id": "2bc4466d",
   "metadata": {},
   "outputs": [
    {
     "data": {
      "text/plain": [
       "'Adeltech'"
      ]
     },
     "execution_count": 1,
     "metadata": {},
     "output_type": "execute_result"
    }
   ],
   "source": [
    "# String Manipulation Remaining section and functions.\n",
    "# capitalizr\\e()\n",
    "name = \"adeltech\"\n",
    "name.capitalize()\n"
   ]
  },
  {
   "cell_type": "code",
   "execution_count": 4,
   "id": "ee79c34f",
   "metadata": {},
   "outputs": [
    {
     "data": {
      "text/plain": [
       "<reversed at 0x1c83e7e9310>"
      ]
     },
     "execution_count": 4,
     "metadata": {},
     "output_type": "execute_result"
    }
   ],
   "source": [
    "# Reversing a string\n",
    "name[::-1] #using slicing"
   ]
  },
  {
   "cell_type": "code",
   "execution_count": 5,
   "id": "28bcc7dd",
   "metadata": {},
   "outputs": [
    {
     "data": {
      "text/plain": [
       "<reversed at 0x1c83faee730>"
      ]
     },
     "execution_count": 5,
     "metadata": {},
     "output_type": "execute_result"
    }
   ],
   "source": [
    "reversed(name)  # Returns a str object stored at specific memory location"
   ]
  },
  {
   "cell_type": "code",
   "execution_count": 14,
   "id": "83f68195",
   "metadata": {},
   "outputs": [
    {
     "data": {
      "text/plain": [
       "'hcetleda'"
      ]
     },
     "execution_count": 14,
     "metadata": {},
     "output_type": "execute_result"
    }
   ],
   "source": [
    "# join() function \n",
    "\"\".join(reversed(name)) # reversed(name) acts as an iterator"
   ]
  },
  {
   "cell_type": "code",
   "execution_count": 15,
   "id": "3e757181",
   "metadata": {},
   "outputs": [
    {
     "data": {
      "text/plain": [
       "'h c e t l e d a'"
      ]
     },
     "execution_count": 15,
     "metadata": {},
     "output_type": "execute_result"
    }
   ],
   "source": [
    "\" \".join(reversed(name))"
   ]
  },
  {
   "cell_type": "code",
   "execution_count": 8,
   "id": "ebc5f200",
   "metadata": {},
   "outputs": [
    {
     "data": {
      "text/plain": [
       "'cAbcdAbce'"
      ]
     },
     "execution_count": 8,
     "metadata": {},
     "output_type": "execute_result"
    }
   ],
   "source": [
    "\"Abc\".join(\"cde\")"
   ]
  },
  {
   "cell_type": "code",
   "execution_count": 9,
   "id": "4efd4b17",
   "metadata": {},
   "outputs": [
    {
     "data": {
      "text/plain": [
       "'i N e u r o n'"
      ]
     },
     "execution_count": 9,
     "metadata": {},
     "output_type": "execute_result"
    }
   ],
   "source": [
    "\" \".join(\"iNeuron\")"
   ]
  },
  {
   "cell_type": "code",
   "execution_count": 12,
   "id": "d223ceb6",
   "metadata": {},
   "outputs": [
    {
     "data": {
      "text/plain": [
       "['h', 'c', 'e', 't', 'l', 'e', 'd', 'a']"
      ]
     },
     "execution_count": 12,
     "metadata": {},
     "output_type": "execute_result"
    }
   ],
   "source": [
    "list(reversed(name))"
   ]
  },
  {
   "cell_type": "code",
   "execution_count": 16,
   "id": "3691e247",
   "metadata": {},
   "outputs": [
    {
     "data": {
      "text/plain": [
       "'PWSkills'"
      ]
     },
     "execution_count": 16,
     "metadata": {},
     "output_type": "execute_result"
    }
   ],
   "source": [
    "## Removing characters from the end of the string\n",
    "string_a = \" PWSkills \"\n",
    "string_a.replace(\" \",'')"
   ]
  },
  {
   "cell_type": "code",
   "execution_count": 17,
   "id": "0e4b02f1",
   "metadata": {},
   "outputs": [
    {
     "data": {
      "text/plain": [
       "'PWSkills'"
      ]
     },
     "execution_count": 17,
     "metadata": {},
     "output_type": "execute_result"
    }
   ],
   "source": [
    "string_a.strip()"
   ]
  },
  {
   "cell_type": "code",
   "execution_count": 18,
   "id": "abcdc8d4",
   "metadata": {},
   "outputs": [
    {
     "data": {
      "text/plain": [
       "'PWSkills '"
      ]
     },
     "execution_count": 18,
     "metadata": {},
     "output_type": "execute_result"
    }
   ],
   "source": [
    "string_a.lstrip()"
   ]
  },
  {
   "cell_type": "code",
   "execution_count": 20,
   "id": "b7ccb06a",
   "metadata": {},
   "outputs": [
    {
     "data": {
      "text/plain": [
       "' PWSkills'"
      ]
     },
     "execution_count": 20,
     "metadata": {},
     "output_type": "execute_result"
    }
   ],
   "source": [
    "string_a.rstrip()"
   ]
  },
  {
   "cell_type": "code",
   "execution_count": 19,
   "id": "65dcec66",
   "metadata": {},
   "outputs": [
    {
     "data": {
      "text/plain": [
       "' Happy Learning from All'"
      ]
     },
     "execution_count": 19,
     "metadata": {},
     "output_type": "execute_result"
    }
   ],
   "source": [
    "string_b = \" Happy Learning to All\"\n",
    "string_b.replace(\"to\",\"from\")"
   ]
  },
  {
   "cell_type": "code",
   "execution_count": 21,
   "id": "36f57b84",
   "metadata": {},
   "outputs": [
    {
     "name": "stdout",
     "output_type": "stream",
     "text": [
      "1959581703424\n",
      "1959581725840\n"
     ]
    }
   ],
   "source": [
    "# A new local var copy of the string is generated and all occurences of the substr1 will be replaced by substr2\n",
    "# where substr1 is substring to be replaced and substr2 is substring that replaces substr1\n",
    "print(id(string_b))\n",
    "print(id(string_b.replace(\"to\",\"from\")))"
   ]
  },
  {
   "cell_type": "code",
   "execution_count": 22,
   "id": "3587e3e0",
   "metadata": {},
   "outputs": [
    {
     "data": {
      "text/plain": [
       "'Hello World'"
      ]
     },
     "execution_count": 22,
     "metadata": {},
     "output_type": "execute_result"
    }
   ],
   "source": [
    "'Hello World'"
   ]
  },
  {
   "cell_type": "code",
   "execution_count": 23,
   "id": "009ed986",
   "metadata": {},
   "outputs": [
    {
     "data": {
      "text/plain": [
       "'Hello   World'"
      ]
     },
     "execution_count": 23,
     "metadata": {},
     "output_type": "execute_result"
    }
   ],
   "source": [
    "'Hello \\tWorld'.expandtabs()"
   ]
  },
  {
   "cell_type": "code",
   "execution_count": 24,
   "id": "30103ec8",
   "metadata": {},
   "outputs": [
    {
     "data": {
      "text/plain": [
       "'Hello \\nWorld'"
      ]
     },
     "execution_count": 24,
     "metadata": {},
     "output_type": "execute_result"
    }
   ],
   "source": [
    "'Hello \\nWorld'"
   ]
  },
  {
   "cell_type": "code",
   "execution_count": null,
   "id": "ad2122ca",
   "metadata": {},
   "outputs": [],
   "source": [
    "'Hello \\nWorld'"
   ]
  },
  {
   "cell_type": "code",
   "execution_count": null,
   "id": "5fe11b10",
   "metadata": {},
   "outputs": [],
   "source": [
    "# for \\n .format() can be used"
   ]
  },
  {
   "cell_type": "code",
   "execution_count": 26,
   "id": "af9931bd",
   "metadata": {},
   "outputs": [],
   "source": [
    "s1 = \"Welcome to PWSkills \""
   ]
  },
  {
   "cell_type": "code",
   "execution_count": 27,
   "id": "40053171",
   "metadata": {},
   "outputs": [
    {
     "data": {
      "text/plain": [
       "False"
      ]
     },
     "execution_count": 27,
     "metadata": {},
     "output_type": "execute_result"
    }
   ],
   "source": [
    "s1.islower()"
   ]
  },
  {
   "cell_type": "code",
   "execution_count": 28,
   "id": "d90074b7",
   "metadata": {},
   "outputs": [
    {
     "data": {
      "text/plain": [
       "False"
      ]
     },
     "execution_count": 28,
     "metadata": {},
     "output_type": "execute_result"
    }
   ],
   "source": [
    "s1.isupper()"
   ]
  },
  {
   "cell_type": "code",
   "execution_count": 31,
   "id": "46b061ab",
   "metadata": {},
   "outputs": [
    {
     "data": {
      "text/plain": [
       "True"
      ]
     },
     "execution_count": 31,
     "metadata": {},
     "output_type": "execute_result"
    }
   ],
   "source": [
    "\"  \".isspace() # checks if all characters in the string are spaces"
   ]
  },
  {
   "cell_type": "code",
   "execution_count": 32,
   "id": "cd772f6e",
   "metadata": {},
   "outputs": [],
   "source": [
    "s2 = \"iNeuron\""
   ]
  },
  {
   "cell_type": "code",
   "execution_count": 33,
   "id": "b9c4d553",
   "metadata": {},
   "outputs": [
    {
     "data": {
      "text/plain": [
       "True"
      ]
     },
     "execution_count": 33,
     "metadata": {},
     "output_type": "execute_result"
    }
   ],
   "source": [
    "s2.endswith('n')"
   ]
  },
  {
   "cell_type": "code",
   "execution_count": 34,
   "id": "7dcf7f70",
   "metadata": {},
   "outputs": [
    {
     "data": {
      "text/plain": [
       "True"
      ]
     },
     "execution_count": 34,
     "metadata": {},
     "output_type": "execute_result"
    }
   ],
   "source": [
    "s2.startswith('i')"
   ]
  },
  {
   "cell_type": "code",
   "execution_count": 35,
   "id": "17e67d69",
   "metadata": {},
   "outputs": [
    {
     "data": {
      "text/plain": [
       "True"
      ]
     },
     "execution_count": 35,
     "metadata": {},
     "output_type": "execute_result"
    }
   ],
   "source": [
    "s3 = \"abcd123\"\n",
    "s3.isalnum()"
   ]
  },
  {
   "cell_type": "code",
   "execution_count": 38,
   "id": "144e97dc",
   "metadata": {},
   "outputs": [
    {
     "name": "stdout",
     "output_type": "stream",
     "text": [
      "7\n"
     ]
    }
   ],
   "source": [
    "c = 0\n",
    "for i in s3:\n",
    "    c+=1\n",
    "print(c)"
   ]
  },
  {
   "cell_type": "code",
   "execution_count": 39,
   "id": "23d7e95a",
   "metadata": {},
   "outputs": [
    {
     "data": {
      "text/plain": [
       "7"
      ]
     },
     "execution_count": 39,
     "metadata": {},
     "output_type": "execute_result"
    }
   ],
   "source": [
    "len(s3)"
   ]
  },
  {
   "cell_type": "code",
   "execution_count": 40,
   "id": "1d87336f",
   "metadata": {},
   "outputs": [
    {
     "name": "stdout",
     "output_type": "stream",
     "text": [
      "a is a vowel\n",
      "b is not a vowel\n",
      "c is not a vowel\n",
      "d is not a vowel\n",
      "1 is not a vowel\n",
      "2 is not a vowel\n",
      "3 is not a vowel\n"
     ]
    }
   ],
   "source": [
    "vowels = \"AaEeIiOoUu\"\n",
    "for i in s3:\n",
    "    if i in vowels:\n",
    "        print('{} is a vowel'.format(i))\n",
    "    else:\n",
    "        print(\"{} is not a vowel\".format(i))"
   ]
  },
  {
   "cell_type": "code",
   "execution_count": 42,
   "id": "09078513",
   "metadata": {},
   "outputs": [
    {
     "name": "stdout",
     "output_type": "stream",
     "text": [
      "a\n",
      "b\n",
      "c\n",
      "d\n",
      "1\n",
      "2\n",
      "3\n"
     ]
    }
   ],
   "source": [
    "for i in s3:\n",
    "    print(i)"
   ]
  },
  {
   "cell_type": "code",
   "execution_count": 43,
   "id": "50a5b929",
   "metadata": {},
   "outputs": [
    {
     "name": "stdout",
     "output_type": "stream",
     "text": [
      "0 -> a\n",
      "1 -> b\n",
      "2 -> c\n",
      "3 -> d\n",
      "4 -> 1\n",
      "5 -> 2\n",
      "6 -> 3\n"
     ]
    }
   ],
   "source": [
    "for i in range(len(s3)):\n",
    "    print(i,'->',s3[i])"
   ]
  },
  {
   "cell_type": "code",
   "execution_count": 44,
   "id": "2d25026e",
   "metadata": {},
   "outputs": [
    {
     "name": "stdout",
     "output_type": "stream",
     "text": [
      "3\n",
      "2\n",
      "1\n",
      "d\n",
      "c\n",
      "b\n",
      "a\n"
     ]
    }
   ],
   "source": [
    "for i in range(len(s3)-1,-1,-1):\n",
    "    print(s3[i])"
   ]
  },
  {
   "cell_type": "code",
   "execution_count": 109,
   "id": "793c6df6",
   "metadata": {},
   "outputs": [
    {
     "data": {
      "text/plain": [
       "[[1, 2, 3]]"
      ]
     },
     "execution_count": 109,
     "metadata": {},
     "output_type": "execute_result"
    }
   ],
   "source": [
    "z = [[1,2,3],[4,5,6],[7,8,9]]\n",
    "[i[0] for i in z]"
   ]
  },
  {
   "cell_type": "markdown",
   "id": "a853c1cf",
   "metadata": {},
   "source": [
    "# LISTS"
   ]
  },
  {
   "cell_type": "code",
   "execution_count": 45,
   "id": "eaedb656",
   "metadata": {},
   "outputs": [
    {
     "data": {
      "text/plain": [
       "['Knn', 'SVM', 'DSA', 32]"
      ]
     },
     "execution_count": 45,
     "metadata": {},
     "output_type": "execute_result"
    }
   ],
   "source": [
    "[\"Knn\",\"SVM\",\"DSA\",32]"
   ]
  },
  {
   "cell_type": "code",
   "execution_count": 46,
   "id": "ff74b5ac",
   "metadata": {},
   "outputs": [
    {
     "data": {
      "text/plain": [
       "[1, 2, 3, 4, 5, 6]"
      ]
     },
     "execution_count": 46,
     "metadata": {},
     "output_type": "execute_result"
    }
   ],
   "source": [
    "list([1,2,3,4,5,6])"
   ]
  },
  {
   "cell_type": "code",
   "execution_count": 47,
   "id": "7adaeda6",
   "metadata": {},
   "outputs": [
    {
     "data": {
      "text/plain": [
       "['a', 'b', 'c', 'd', '1', '2', '3']"
      ]
     },
     "execution_count": 47,
     "metadata": {},
     "output_type": "execute_result"
    }
   ],
   "source": [
    "list(s3)"
   ]
  },
  {
   "cell_type": "code",
   "execution_count": 52,
   "id": "fa3fe44f",
   "metadata": {},
   "outputs": [],
   "source": [
    "str1 = \"PW SKILLS DATA SCIENCE MASTERS\"\n",
    "lst1 = str1.split(\" \")"
   ]
  },
  {
   "cell_type": "code",
   "execution_count": 53,
   "id": "4f21bd77",
   "metadata": {},
   "outputs": [
    {
     "data": {
      "text/plain": [
       "['SKILLS', 'DATA', 'SCIENCE', 'MASTERS']"
      ]
     },
     "execution_count": 53,
     "metadata": {},
     "output_type": "execute_result"
    }
   ],
   "source": [
    "lst1[1:]"
   ]
  },
  {
   "cell_type": "code",
   "execution_count": 54,
   "id": "9bd27b78",
   "metadata": {},
   "outputs": [],
   "source": [
    "lst1 = [1,3,4,5,6,7,8]"
   ]
  },
  {
   "cell_type": "markdown",
   "id": "d11c9c9c",
   "metadata": {},
   "source": [
    "# LIST FUNCTIONS"
   ]
  },
  {
   "cell_type": "code",
   "execution_count": 55,
   "id": "daf14e68",
   "metadata": {},
   "outputs": [],
   "source": [
    "lst1.reverse()"
   ]
  },
  {
   "cell_type": "code",
   "execution_count": 56,
   "id": "7f59e2ee",
   "metadata": {},
   "outputs": [
    {
     "data": {
      "text/plain": [
       "[8, 7, 6, 5, 4, 3, 1]"
      ]
     },
     "execution_count": 56,
     "metadata": {},
     "output_type": "execute_result"
    }
   ],
   "source": [
    "lst1"
   ]
  },
  {
   "cell_type": "code",
   "execution_count": 57,
   "id": "097f09f3",
   "metadata": {},
   "outputs": [],
   "source": [
    "lst1.sort()"
   ]
  },
  {
   "cell_type": "code",
   "execution_count": 58,
   "id": "88d61f4e",
   "metadata": {},
   "outputs": [
    {
     "data": {
      "text/plain": [
       "[1, 3, 4, 5, 6, 7, 8]"
      ]
     },
     "execution_count": 58,
     "metadata": {},
     "output_type": "execute_result"
    }
   ],
   "source": [
    "lst1"
   ]
  },
  {
   "cell_type": "code",
   "execution_count": 59,
   "id": "ad5f4f56",
   "metadata": {},
   "outputs": [],
   "source": [
    "matrix = [[1,2,3],[4,5,6],[7,8,9]]"
   ]
  },
  {
   "cell_type": "code",
   "execution_count": 62,
   "id": "1b41de1f",
   "metadata": {},
   "outputs": [
    {
     "data": {
      "text/plain": [
       "[1, 2, 3]"
      ]
     },
     "execution_count": 62,
     "metadata": {},
     "output_type": "execute_result"
    }
   ],
   "source": [
    "matrix[0:][0]"
   ]
  },
  {
   "cell_type": "code",
   "execution_count": 173,
   "id": "dc4a9433",
   "metadata": {},
   "outputs": [
    {
     "data": {
      "text/plain": [
       "[1, 5, 6]"
      ]
     },
     "execution_count": 173,
     "metadata": {},
     "output_type": "execute_result"
    }
   ],
   "source": [
    "lr = [[1,3,4],[5,6,7],[6,4,5]]\n",
    "[i[0] for i in lr]"
   ]
  },
  {
   "cell_type": "code",
   "execution_count": 71,
   "id": "cf2889c2",
   "metadata": {},
   "outputs": [
    {
     "data": {
      "text/plain": [
       "[0,\n",
       " 'ODD',\n",
       " 2,\n",
       " 'ODD',\n",
       " 4,\n",
       " 'ODD',\n",
       " 6,\n",
       " 'ODD',\n",
       " 8,\n",
       " 'ODD',\n",
       " 10,\n",
       " 'ODD',\n",
       " 12,\n",
       " 'ODD',\n",
       " 14,\n",
       " 'ODD',\n",
       " 16,\n",
       " 'ODD',\n",
       " 18,\n",
       " 'ODD']"
      ]
     },
     "execution_count": 71,
     "metadata": {},
     "output_type": "execute_result"
    }
   ],
   "source": [
    "[i if i%2==0 else \"ODD\" for i in range(20)]"
   ]
  },
  {
   "cell_type": "code",
   "execution_count": 72,
   "id": "e4f51c3f",
   "metadata": {},
   "outputs": [
    {
     "data": {
      "text/plain": [
       "[0, 2, 4, 6, 8, 10, 12, 14, 16, 18]"
      ]
     },
     "execution_count": 72,
     "metadata": {},
     "output_type": "execute_result"
    }
   ],
   "source": [
    "[i for i in range(20) if i%2==0]"
   ]
  },
  {
   "cell_type": "code",
   "execution_count": 128,
   "id": "0ae80f9e",
   "metadata": {},
   "outputs": [],
   "source": [
    "l = [i for i in range(21)]"
   ]
  },
  {
   "cell_type": "code",
   "execution_count": 77,
   "id": "93cfac7d",
   "metadata": {},
   "outputs": [
    {
     "data": {
      "text/plain": [
       "100"
      ]
     },
     "execution_count": 77,
     "metadata": {},
     "output_type": "execute_result"
    }
   ],
   "source": [
    "odd_sum = sum([i for i in l if i%2==1])\n",
    "odd_sum"
   ]
  },
  {
   "cell_type": "code",
   "execution_count": null,
   "id": "967c4d8d",
   "metadata": {},
   "outputs": [],
   "source": [
    "sq = [i*i for i in range(n)]"
   ]
  },
  {
   "cell_type": "code",
   "execution_count": 129,
   "id": "61c594cf",
   "metadata": {},
   "outputs": [],
   "source": [
    "# Create a list of prime numbers from A List using List Comprehension\n",
    "\n",
    "# Create a list of \n",
    "\n",
    "l1 = [i for i in l if sum([1 if i%j==0 else 0 for j in range(1,i+1)])==2 ]"
   ]
  },
  {
   "cell_type": "code",
   "execution_count": 171,
   "id": "2419da10",
   "metadata": {},
   "outputs": [
    {
     "name": "stdout",
     "output_type": "stream",
     "text": [
      "[0, 1, 2, 3, 4, 5, 6, 7, 8, 9, 10, 11, 12, 13, 14, 15, 16, 17, 18, 19, 20]\n",
      "[2, 3, 5, 7, 11, 13, 17, 19]\n"
     ]
    }
   ],
   "source": [
    "print(l)\n",
    "print(l1)"
   ]
  },
  {
   "cell_type": "code",
   "execution_count": 131,
   "id": "e3ee8827",
   "metadata": {},
   "outputs": [],
   "source": [
    "l2 = []\n",
    "for i in l:\n",
    "    c=0\n",
    "    for j in range(1,i+1):\n",
    "        if(i%j==0):\n",
    "            c+=1\n",
    "    if(c==2):\n",
    "        l2.append(i)"
   ]
  },
  {
   "cell_type": "code",
   "execution_count": 132,
   "id": "2a074fbb",
   "metadata": {},
   "outputs": [
    {
     "data": {
      "text/plain": [
       "[2, 3, 5, 7, 11, 13, 17, 19]"
      ]
     },
     "execution_count": 132,
     "metadata": {},
     "output_type": "execute_result"
    }
   ],
   "source": [
    "l2"
   ]
  },
  {
   "cell_type": "code",
   "execution_count": 96,
   "id": "e79f539f",
   "metadata": {},
   "outputs": [],
   "source": [
    "l1.remove(2)"
   ]
  },
  {
   "cell_type": "code",
   "execution_count": 130,
   "id": "b54f042e",
   "metadata": {},
   "outputs": [
    {
     "data": {
      "text/plain": [
       "[2, 3, 5, 7, 11, 13, 17, 19]"
      ]
     },
     "execution_count": 130,
     "metadata": {},
     "output_type": "execute_result"
    }
   ],
   "source": [
    "l1"
   ]
  },
  {
   "cell_type": "code",
   "execution_count": 86,
   "id": "a02583b5",
   "metadata": {},
   "outputs": [
    {
     "data": {
      "text/plain": [
       "2"
      ]
     },
     "execution_count": 86,
     "metadata": {},
     "output_type": "execute_result"
    }
   ],
   "source": [
    "sum([1 if 5%j==0 else 0 for j in range(1,5+1)])"
   ]
  },
  {
   "cell_type": "code",
   "execution_count": null,
   "id": "1c5069ec",
   "metadata": {},
   "outputs": [],
   "source": []
  },
  {
   "cell_type": "code",
   "execution_count": 170,
   "id": "1e81d77b",
   "metadata": {},
   "outputs": [
    {
     "name": "stdout",
     "output_type": "stream",
     "text": [
      "Pairs possible are:\n",
      " [(0, 1), (0, 2), (0, 3), (0, 4), (0, 5), (0, 6), (0, 7), (0, 8), (0, 9), (0, 10), (0, 11), (0, 12), (0, 13), (0, 14), (0, 15), (0, 16), (0, 17), (0, 18), (0, 19), (0, 20), (1, 2), (1, 3), (1, 4), (1, 5), (1, 6), (1, 7), (1, 8), (1, 9), (1, 10), (1, 11), (1, 12), (1, 13), (1, 14), (1, 15), (1, 16), (1, 17), (1, 18), (1, 19), (1, 20), (2, 3), (2, 4), (2, 5), (2, 6), (2, 7), (2, 8), (2, 9), (2, 10), (2, 11), (2, 12), (2, 13), (2, 14), (2, 15), (2, 16), (2, 17), (2, 18), (2, 19), (2, 20), (3, 4), (3, 5), (3, 6), (3, 7), (3, 8), (3, 9), (3, 10), (3, 11), (3, 12), (3, 13), (3, 14), (3, 15), (3, 16), (3, 17), (3, 18), (3, 19), (3, 20), (4, 5), (4, 6), (4, 7), (4, 8), (4, 9), (4, 10), (4, 11), (4, 12), (4, 13), (4, 14), (4, 15), (4, 16), (4, 17), (4, 18), (4, 19), (4, 20), (5, 6), (5, 7), (5, 8), (5, 9), (5, 10), (5, 11), (5, 12), (5, 13), (5, 14), (5, 15), (5, 16), (5, 17), (5, 18), (5, 19), (5, 20), (6, 7), (6, 8), (6, 9), (6, 10), (6, 11), (6, 12), (6, 13), (6, 14), (6, 15), (6, 16), (6, 17), (6, 18), (6, 19), (6, 20), (7, 8), (7, 9), (7, 10), (7, 11), (7, 12), (7, 13), (7, 14), (7, 15), (7, 16), (7, 17), (7, 18), (7, 19), (7, 20), (8, 9), (8, 10), (8, 11), (8, 12), (8, 13), (8, 14), (8, 15), (8, 16), (8, 17), (8, 18), (8, 19), (8, 20), (9, 10), (9, 11), (9, 12), (9, 13), (9, 14), (9, 15), (9, 16), (9, 17), (9, 18), (9, 19), (9, 20), (10, 11), (10, 12), (10, 13), (10, 14), (10, 15), (10, 16), (10, 17), (10, 18), (10, 19), (10, 20), (11, 12), (11, 13), (11, 14), (11, 15), (11, 16), (11, 17), (11, 18), (11, 19), (11, 20), (12, 13), (12, 14), (12, 15), (12, 16), (12, 17), (12, 18), (12, 19), (12, 20), (13, 14), (13, 15), (13, 16), (13, 17), (13, 18), (13, 19), (13, 20), (14, 15), (14, 16), (14, 17), (14, 18), (14, 19), (14, 20), (15, 16), (15, 17), (15, 18), (15, 19), (15, 20), (16, 17), (16, 18), (16, 19), (16, 20), (17, 18), (17, 19), (17, 20), (18, 19), (18, 20), (19, 20)]\n"
     ]
    }
   ],
   "source": [
    "g=[(i,j) for i in range(len(l)-1) for j in range(i+1,len(l))] #Creation of every possible combinations of 2 elements from list\n",
    "# excluding identity combinations like (0,0), (1,1), .... (n,n) form if want to include just use for j in range(i,len(l)):\n",
    "print(\"Pairs possible are:\\n\",g)"
   ]
  },
  {
   "cell_type": "code",
   "execution_count": 160,
   "id": "d94416ef",
   "metadata": {},
   "outputs": [
    {
     "data": {
      "text/plain": [
       "[None, None, None]"
      ]
     },
     "execution_count": 160,
     "metadata": {},
     "output_type": "execute_result"
    }
   ],
   "source": [
    "x = [[1,2,3],[4,5,6],[7,8,9]]  # Flattening a 2d list into 1d list using A single for loop and inbuilt function\n",
    "k = []\n",
    "[k.extend(i) for i in x]"
   ]
  },
  {
   "cell_type": "code",
   "execution_count": 161,
   "id": "6c15dc2f",
   "metadata": {},
   "outputs": [
    {
     "data": {
      "text/plain": [
       "[1, 2, 3, 4, 5, 6, 7, 8, 9]"
      ]
     },
     "execution_count": 161,
     "metadata": {},
     "output_type": "execute_result"
    }
   ],
   "source": [
    "k"
   ]
  },
  {
   "cell_type": "code",
   "execution_count": 145,
   "id": "4b1d82d8",
   "metadata": {},
   "outputs": [
    {
     "data": {
      "text/plain": [
       "[[1, 2]]"
      ]
     },
     "execution_count": 145,
     "metadata": {},
     "output_type": "execute_result"
    }
   ],
   "source": [
    "p=[]\n",
    "p.append([1,2])\n",
    "p"
   ]
  },
  {
   "cell_type": "code",
   "execution_count": 143,
   "id": "47fdda99",
   "metadata": {},
   "outputs": [],
   "source": [
    "p"
   ]
  },
  {
   "cell_type": "code",
   "execution_count": null,
   "id": "3738b5dd",
   "metadata": {},
   "outputs": [],
   "source": []
  }
 ],
 "metadata": {
  "kernelspec": {
   "display_name": "Python 3 (ipykernel)",
   "language": "python",
   "name": "python3"
  },
  "language_info": {
   "codemirror_mode": {
    "name": "ipython",
    "version": 3
   },
   "file_extension": ".py",
   "mimetype": "text/x-python",
   "name": "python",
   "nbconvert_exporter": "python",
   "pygments_lexer": "ipython3",
   "version": "3.9.12"
  }
 },
 "nbformat": 4,
 "nbformat_minor": 5
}
